{
 "metadata": {
  "name": "",
  "signature": "sha256:e6a4289574fddfe161afbf71220c96ba919320f6c3537b06b55d832021817f2b"
 },
 "nbformat": 3,
 "nbformat_minor": 0,
 "worksheets": [
  {
   "cells": [
    {
     "cell_type": "code",
     "collapsed": false,
     "input": [
      "print(__doc__)\n",
      "\n",
      "from time import time\n",
      "\n",
      "import matplotlib.pyplot as plt\n",
      "from mpl_toolkits.mplot3d import Axes3D\n",
      "from matplotlib.ticker import NullFormatter\n",
      "\n",
      "from sklearn import manifold, datasets\n",
      "%matplotlib inline\n",
      "\n",
      "n_points = 1000\n",
      "X, color = datasets.samples_generator.make_s_curve(n_points, random_state=0)\n",
      "n_neighbors = 10\n",
      "n_components = 2\n",
      "\n",
      "fig = plt.figure(figsize=(15, 8))\n",
      "plt.suptitle(\"Manifold Learning with %i points, %i neighbors\"\n",
      "             % (1000, n_neighbors), fontsize=14)\n",
      "\n",
      "\n",
      "ax = fig.add_subplot(251, projection='3d')\n",
      "ax.scatter(X[:, 0], X[:, 1], X[:, 2], c=color, cmap=plt.cm.Spectral)\n",
      "ax.view_init(4, -72)\n",
      "\n",
      "methods = ['standard', 'ltsa', 'hessian', 'modified']\n",
      "labels = ['LLE', 'LTSA', 'Hessian LLE', 'Modified LLE']\n",
      "\n",
      "for i, method in enumerate(methods):\n",
      "    t0 = time()\n",
      "    Y = manifold.LocallyLinearEmbedding(n_neighbors, n_components,\n",
      "                                        eigen_solver='auto',\n",
      "                                        method=method).fit_transform(X)\n",
      "    t1 = time()\n",
      "    print(\"%s: %.2g sec\" % (methods[i], t1 - t0))\n",
      "\n",
      "    ax = fig.add_subplot(252 + i)\n",
      "    plt.scatter(Y[:, 0], Y[:, 1], c=color, cmap=plt.cm.Spectral)\n",
      "    plt.title(\"%s (%.2g sec)\" % (labels[i], t1 - t0))\n",
      "    ax.xaxis.set_major_formatter(NullFormatter())\n",
      "    ax.yaxis.set_major_formatter(NullFormatter())\n",
      "    plt.axis('tight')\n",
      "\n",
      "t0 = time()\n",
      "Y = manifold.Isomap(n_neighbors, n_components).fit_transform(X)\n",
      "t1 = time()\n",
      "print(\"Isomap: %.2g sec\" % (t1 - t0))\n",
      "ax = fig.add_subplot(257)\n",
      "plt.scatter(Y[:, 0], Y[:, 1], c=color, cmap=plt.cm.Spectral)\n",
      "plt.title(\"Isomap (%.2g sec)\" % (t1 - t0))\n",
      "ax.xaxis.set_major_formatter(NullFormatter())\n",
      "ax.yaxis.set_major_formatter(NullFormatter())\n",
      "plt.axis('tight')\n",
      "\n",
      "\n",
      "t0 = time()\n",
      "mds = manifold.MDS(n_components, max_iter=100, n_init=1)\n",
      "Y = mds.fit_transform(X)\n",
      "t1 = time()\n",
      "print(\"MDS: %.2g sec\" % (t1 - t0))\n",
      "ax = fig.add_subplot(258)\n",
      "plt.scatter(Y[:, 0], Y[:, 1], c=color, cmap=plt.cm.Spectral)\n",
      "plt.title(\"MDS (%.2g sec)\" % (t1 - t0))\n",
      "ax.xaxis.set_major_formatter(NullFormatter())\n",
      "ax.yaxis.set_major_formatter(NullFormatter())\n",
      "plt.axis('tight')\n",
      "\n",
      "\n",
      "t0 = time()\n",
      "se = manifold.SpectralEmbedding(n_components=n_components,\n",
      "                                n_neighbors=n_neighbors)\n",
      "Y = se.fit_transform(X)\n",
      "t1 = time()\n",
      "print(\"SpectralEmbedding: %.2g sec\" % (t1 - t0))\n",
      "ax = fig.add_subplot(259)\n",
      "plt.scatter(Y[:, 0], Y[:, 1], c=color, cmap=plt.cm.Spectral)\n",
      "plt.title(\"SpectralEmbedding (%.2g sec)\" % (t1 - t0))\n",
      "ax.xaxis.set_major_formatter(NullFormatter())\n",
      "ax.yaxis.set_major_formatter(NullFormatter())\n",
      "plt.axis('tight')\n",
      "\n",
      "t0 = time()\n",
      "tsne = manifold.TSNE(n_components=n_components, init='pca', random_state=0)\n",
      "Y = tsne.fit_transform(X)\n",
      "t1 = time()\n",
      "print(\"t-SNE: %.2g sec\" % (t1 - t0))\n",
      "ax = fig.add_subplot(2, 5, 10)\n",
      "plt.scatter(Y[:, 0], Y[:, 1], c=color, cmap=plt.cm.Spectral)\n",
      "plt.title(\"t-SNE (%.2g sec)\" % (t1 - t0))\n",
      "ax.xaxis.set_major_formatter(NullFormatter())\n",
      "ax.yaxis.set_major_formatter(NullFormatter())\n",
      "plt.axis('tight')\n",
      "\n",
      "plt.show()"
     ],
     "language": "python",
     "metadata": {},
     "outputs": [
      {
       "output_type": "stream",
       "stream": "stdout",
       "text": [
        "Automatically created module for IPython interactive environment\n",
        "standard: 0.11 sec"
       ]
      },
      {
       "output_type": "stream",
       "stream": "stdout",
       "text": [
        "\n",
        "ltsa: 0.21 sec"
       ]
      },
      {
       "output_type": "stream",
       "stream": "stdout",
       "text": [
        "\n",
        "hessian: 0.27 sec"
       ]
      },
      {
       "output_type": "stream",
       "stream": "stdout",
       "text": [
        "\n",
        "modified: 0.21 sec"
       ]
      },
      {
       "output_type": "stream",
       "stream": "stdout",
       "text": [
        "\n",
        "Isomap: 0.39 sec"
       ]
      }
     ]
    },
    {
     "cell_type": "code",
     "collapsed": false,
     "input": [],
     "language": "python",
     "metadata": {},
     "outputs": []
    }
   ],
   "metadata": {}
  }
 ]
}